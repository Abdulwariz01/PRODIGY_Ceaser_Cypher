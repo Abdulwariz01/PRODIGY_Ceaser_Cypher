{
  "nbformat": 4,
  "nbformat_minor": 0,
  "metadata": {
    "colab": {
      "provenance": []
    },
    "kernelspec": {
      "name": "python3",
      "display_name": "Python 3"
    },
    "language_info": {
      "name": "python"
    }
  },
  "cells": [
    {
      "cell_type": "code",
      "execution_count": 7,
      "metadata": {
        "colab": {
          "base_uri": "https://localhost:8080/"
        },
        "id": "a9yJL44B2Fv2",
        "outputId": "7b4ef916-e50b-489d-efd7-00a123ee5130"
      },
      "outputs": [
        {
          "output_type": "stream",
          "name": "stdout",
          "text": [
            "Enter the message to encrypt: Hello, How you doing 2000\n",
            "Enter the shift value: 4\n",
            "Encrypted message: Lipps, Lsa csy hsmrk 6444\n"
          ]
        }
      ],
      "source": [
        "def encrypt_caesar_cipher(text, shift):\n",
        "    encrypted_text = \"\"\n",
        "    for char in text:\n",
        "        if char.isalpha():  # Check if the character is a letter\n",
        "            start = ord('A') if char.isupper() else ord('a')\n",
        "            # Perform the shift for letters\n",
        "            encrypted_text += chr((ord(char) - start + shift) % 26 + start)\n",
        "        elif char.isdigit():  # Check if the character is a number\n",
        "            start = ord('0')  # ASCII value for '0'\n",
        "            # Perform the shift for numbers\n",
        "            encrypted_text += chr((ord(char) - start + shift) % 10 + start)\n",
        "        else:\n",
        "            # Non-alphabetic and non-numeric characters remain unchanged\n",
        "            encrypted_text += char\n",
        "    return encrypted_text\n",
        "\n",
        "# Example usage for encryption\n",
        "message = input(\"Enter the message to encrypt: \").strip()\n",
        "shift_value = int(input(\"Enter the shift value: \"))\n",
        "encrypted_message = encrypt_caesar_cipher(message, shift_value)\n",
        "print(f\"Encrypted message: {encrypted_message}\")\n"
      ]
    },
    {
      "cell_type": "code",
      "source": [
        "def decrypt_caesar_cipher(text, shift):\n",
        "    decrypted_text = \"\"\n",
        "    for char in text:\n",
        "        if char.isalpha():  # Check if the character is a letter\n",
        "            start = ord('A') if char.isupper() else ord('a')\n",
        "            # Perform the reverse shift for letters\n",
        "            decrypted_text += chr((ord(char) - start - shift + 26) % 26 + start)\n",
        "        elif char.isdigit():  # Check if the character is a number\n",
        "            start = ord('0')  # ASCII value for '0'\n",
        "            # Perform the reverse shift for numbers\n",
        "            decrypted_text += chr((ord(char) - start - shift + 10) % 10 + start)\n",
        "        else:\n",
        "            # Non-alphabetic and non-numeric characters remain unchanged\n",
        "            decrypted_text += char\n",
        "    return decrypted_text\n",
        "\n",
        "# Example usage for decryption\n",
        "encrypted_message = input(\"Enter the message to decrypt: \").strip()\n",
        "shift_value = int(input(\"Enter the shift value: \"))\n",
        "decrypted_message = decrypt_caesar_cipher(encrypted_message, shift_value)\n",
        "print(f\"Decrypted message: {decrypted_message}\")\n"
      ],
      "metadata": {
        "colab": {
          "base_uri": "https://localhost:8080/"
        },
        "id": "F-UCrS2F2a8B",
        "outputId": "0bd9a8a1-6aff-4324-93ea-bd0401b89faa"
      },
      "execution_count": 8,
      "outputs": [
        {
          "output_type": "stream",
          "name": "stdout",
          "text": [
            "Enter the message to decrypt: Lipps, Lsa csy hsmrk 6444\n",
            "Enter the shift value: 4\n",
            "Decrypted message: Hello, How you doing 2000\n"
          ]
        }
      ]
    },
    {
      "cell_type": "code",
      "source": [],
      "metadata": {
        "id": "-WpxIl8839SD"
      },
      "execution_count": null,
      "outputs": []
    }
  ]
}